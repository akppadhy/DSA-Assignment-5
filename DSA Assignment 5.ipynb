{
 "cells": [
  {
   "cell_type": "code",
   "execution_count": null,
   "id": "c3f9877e-283d-4ca8-ab77-52332a228a3b",
   "metadata": {},
   "outputs": [],
   "source": [
    "#1. Convert 1D Array Into 2D Array\n",
    "\n",
    "#You are given a 0-indexed 1-dimensional (1D) integer array original, and two integers, m and n. You are tasked with creating a 2-dimensional (2D) array with  m rows and n columns using all the elements from original.\n",
    "\n",
    "#The elements from indices 0 to n - 1 (inclusive) of original should form the first row of the constructed 2D array, the elements from indices n to 2 * n - 1 (inclusive) should form the second row of the constructed 2D array, and so on.\n",
    "\n",
    "#Return an m x n 2D array constructed according to the above procedure, or an empty 2D array if it is impossible. Example 1: Input: original = [1,2,3,4], m = 2, n = 2\n",
    "\n",
    "#Output: [[1,2],[3,4]]"
   ]
  },
  {
   "cell_type": "code",
   "execution_count": 1,
   "id": "efa1ade6-7129-4499-a1c7-41fdf97177c8",
   "metadata": {},
   "outputs": [
    {
     "name": "stdout",
     "output_type": "stream",
     "text": [
      "[[1, 2], [3, 4]]\n"
     ]
    }
   ],
   "source": [
    "def convert_to_2d_array(original, m, n):\n",
    "    if len(original) != m * n:\n",
    "        return []  \n",
    "\n",
    "    result = [[0] * n for _ in range(m)]  \n",
    "\n",
    "    for i in range(len(original)):\n",
    "        row = i // n\n",
    "        col = i % n\n",
    "        result[row][col] = original[i]\n",
    "\n",
    "    return result\n",
    "\n",
    "# Test Function\n",
    "original = [1, 2, 3, 4]\n",
    "m = 2\n",
    "n = 2\n",
    "result = convert_to_2d_array(original, m, n)\n",
    "print(result)"
   ]
  },
  {
   "cell_type": "code",
   "execution_count": null,
   "id": "352037df-6812-4a6b-b63a-279ca84ce6e0",
   "metadata": {},
   "outputs": [],
   "source": [
    "#2. You have n coins and you want to build a staircase with these coins. The staircase consists of k rows where the ith row has exactly i coins. The last row of the staircase may be incomplete.\n",
    "\n",
    "#Given the integer n, return the number of complete rows* of the staircase you will build*.\n",
    "\n",
    "#Example 1: Input: n = 5\n",
    "\n",
    "#Output: 2"
   ]
  },
  {
   "cell_type": "code",
   "execution_count": 2,
   "id": "dfcef8b7-e075-44ee-bb3d-fd59d1d51ac1",
   "metadata": {},
   "outputs": [
    {
     "name": "stdout",
     "output_type": "stream",
     "text": [
      "2\n"
     ]
    }
   ],
   "source": [
    "import math\n",
    "\n",
    "def count_complete_rows(n):\n",
    "    left = 0\n",
    "    right = int(math.sqrt(2 * n))\n",
    "\n",
    "    while left <= right:\n",
    "        mid = (left + right) // 2\n",
    "        total_coins = (mid * (mid + 1)) // 2\n",
    "\n",
    "        if total_coins == n:\n",
    "            return mid\n",
    "        elif total_coins < n:\n",
    "            left = mid + 1\n",
    "        else:\n",
    "            right = mid - 1\n",
    "\n",
    "    return right\n",
    "\n",
    "# Test Function\n",
    "n = 5\n",
    "result = count_complete_rows(n)\n",
    "print(result)"
   ]
  },
  {
   "cell_type": "code",
   "execution_count": null,
   "id": "a11a4037-1d37-4d9e-99a4-8eef5a2fd9fb",
   "metadata": {},
   "outputs": [],
   "source": [
    "#3. Given an integer array nums sorted in non-decreasing order, return an array of the squares of each number* sorted in non-decreasing order*.\n",
    "\n",
    "#Example 1:\n",
    "\n",
    "#Input: nums = [-4,-1,0,3,10]\n",
    "\n",
    "#Output: [0,1,9,16,100]#"
   ]
  },
  {
   "cell_type": "code",
   "execution_count": 3,
   "id": "e0996924-274c-4319-927c-e46a7075c8a9",
   "metadata": {},
   "outputs": [
    {
     "name": "stdout",
     "output_type": "stream",
     "text": [
      "[0, 1, 9, 16, 100]\n"
     ]
    }
   ],
   "source": [
    "def sorted_squares(nums):\n",
    "    n = len(nums)\n",
    "    result = [0] * n\n",
    "    left, right = 0, n - 1\n",
    "\n",
    "    for i in range(n - 1, -1, -1):\n",
    "        if abs(nums[left]) >= abs(nums[right]):\n",
    "            result[i] = nums[left] ** 2\n",
    "            left += 1\n",
    "        else:\n",
    "            result[i] = nums[right] ** 2\n",
    "            right -= 1\n",
    "\n",
    "    return result\n",
    "\n",
    "# Test Function\n",
    "nums = [-4, -1, 0, 3, 10]\n",
    "result = sorted_squares(nums)\n",
    "print(result)"
   ]
  },
  {
   "cell_type": "code",
   "execution_count": null,
   "id": "1fb86a07-24e7-4afb-ac33-84380ed182f5",
   "metadata": {},
   "outputs": [],
   "source": [
    "#4. Given two 0-indexed integer arrays nums1 and nums2, return a list answer of size 2 where:\n",
    "\n",
    "#answer[0] is a list of all distinct* integers in* nums1 which are not* present in* nums2.\n",
    "#answer[1] is a list of all distinct* integers in* nums2 which are not* present in* nums1.\n",
    "#Note that the integers in the lists may be returned in any order.\n",
    "\n",
    "#Example 1:\n",
    "\n",
    "#Input: nums1 = [1,2,3], nums2 = [2,4,6]\n",
    "\n",
    "#Output: [[1,3],[4,6]]"
   ]
  },
  {
   "cell_type": "code",
   "execution_count": 4,
   "id": "2b9af8e8-9385-4f54-8952-74d7e0a54371",
   "metadata": {},
   "outputs": [
    {
     "name": "stdout",
     "output_type": "stream",
     "text": [
      "[[1, 3], [4, 6]]\n"
     ]
    }
   ],
   "source": [
    "def find_disjoint(nums1, nums2):\n",
    "    set1 = set(nums1)\n",
    "    set2 = set(nums2)\n",
    "\n",
    "    answer1 = list(set1 - set2)\n",
    "    answer2 = list(set2 - set1)\n",
    "\n",
    "    return [answer1, answer2]\n",
    "\n",
    "# Test Function\n",
    "nums1 = [1, 2, 3]\n",
    "nums2 = [2, 4, 6]\n",
    "result = find_disjoint(nums1, nums2)\n",
    "print(result)"
   ]
  },
  {
   "cell_type": "code",
   "execution_count": null,
   "id": "84a6ddda-ddb5-4190-8373-733ba9033eb7",
   "metadata": {},
   "outputs": [],
   "source": [
    "#5. Given two integer arrays arr1 and arr2, and the integer d, return the distance value between the two arrays.\n",
    "\n",
    "#The distance value is defined as the number of elements arr1[i] such that there is not any element arr2[j] where |arr1[i]-arr2[j]| <= d.\n",
    "\n",
    "#Example 1:\n",
    "\n",
    "#Input: arr1 = [4,5,8], arr2 = [10,9,1,8], d = 2\n",
    "\n",
    "#Output: 2"
   ]
  },
  {
   "cell_type": "code",
   "execution_count": 5,
   "id": "c57967c6-95f4-4714-9a2b-390356567440",
   "metadata": {},
   "outputs": [
    {
     "name": "stdout",
     "output_type": "stream",
     "text": [
      "2\n"
     ]
    }
   ],
   "source": [
    "def distance_value(arr1, arr2, d):\n",
    "    count = 0\n",
    "\n",
    "    for num1 in arr1:\n",
    "        isValid = True\n",
    "\n",
    "        for num2 in arr2:\n",
    "            if abs(num1 - num2) <= d:\n",
    "                isValid = False\n",
    "                break\n",
    "\n",
    "        if isValid:\n",
    "            count += 1\n",
    "\n",
    "    return count\n",
    "\n",
    "# Test Function\n",
    "arr1 = [4, 5, 8]\n",
    "arr2 = [10, 9, 1, 8]\n",
    "d = 2\n",
    "result = distance_value(arr1, arr2, d)\n",
    "print(result)"
   ]
  },
  {
   "cell_type": "code",
   "execution_count": null,
   "id": "81347239-a0d0-4983-ade1-e4b970d3d063",
   "metadata": {},
   "outputs": [],
   "source": [
    "#6. Given an integer array nums of length n where all the integers of nums are in the range [1, n] and each integer appears once or twice, return an array of all the integers that appears twice**.\n",
    "\n",
    "#You must write an algorithm that runs in O(n) time and uses only constant extra space.\n",
    "\n",
    "#Example 1:\n",
    "\n",
    "#Input: nums = [4,3,2,7,8,2,3,1]\n",
    "\n",
    "#Output:\n",
    "\n",
    "#[2,3]"
   ]
  },
  {
   "cell_type": "code",
   "execution_count": 6,
   "id": "c1cdbeba-a246-412c-a622-c448ed2a7e1a",
   "metadata": {},
   "outputs": [
    {
     "name": "stdout",
     "output_type": "stream",
     "text": [
      "[2, 3]\n"
     ]
    }
   ],
   "source": [
    "def findDuplicates(nums):\n",
    "    result = []\n",
    "    for num in nums:\n",
    "        abs_num = abs(num)\n",
    "        if nums[abs_num - 1] > 0:\n",
    "            nums[abs_num - 1] *= -1\n",
    "        else:\n",
    "            result.append(abs_num)\n",
    "    return result\n",
    "\n",
    "# Test Function\n",
    "nums = [4, 3, 2, 7, 8, 2, 3, 1]\n",
    "print(findDuplicates(nums))"
   ]
  },
  {
   "cell_type": "code",
   "execution_count": null,
   "id": "14bc39b5-5142-4c9d-a97d-7cb01af39b6a",
   "metadata": {},
   "outputs": [],
   "source": [
    "#7. Suppose an array of length n sorted in ascending order is rotated between 1 and n times. For example, the array nums = [0,1,2,4,5,6,7] might become:\n",
    "\n",
    "#[4,5,6,7,0,1,2] if it was rotated 4 times.\n",
    "#[0,1,2,4,5,6,7] if it was rotated 7 times.\n",
    "#Notice that rotating an array [a[0], a[1], a[2], ..., a[n-1]] 1 time results in the array [a[n-1], a[0], a[1], a[2], ..., a[n-2]].\n",
    "\n",
    "#Given the sorted rotated array nums of unique elements, return the minimum element of this array.\n",
    "\n",
    "#You must write an algorithm that runs in O(log n) time.\n",
    "\n",
    "#Example 1:\n",
    "\n",
    "#Input: nums = [3,4,5,1,2]\n",
    "\n",
    "#Output: 1"
   ]
  },
  {
   "cell_type": "code",
   "execution_count": 7,
   "id": "095a989f-f475-43a9-968a-7681a62f9d82",
   "metadata": {},
   "outputs": [
    {
     "name": "stdout",
     "output_type": "stream",
     "text": [
      "1\n"
     ]
    }
   ],
   "source": [
    "def find_min(nums):\n",
    "    left = 0\n",
    "    right = len(nums) - 1\n",
    "\n",
    "    while left < right:\n",
    "        mid = (left + right) // 2\n",
    "\n",
    "        if nums[mid] > nums[right]:\n",
    "            left = mid + 1\n",
    "        else:\n",
    "            right = mid\n",
    "\n",
    "    return nums[left]\n",
    "\n",
    "# Test Function\n",
    "nums = [3, 4, 5, 1, 2]\n",
    "result = find_min(nums)\n",
    "print(result)"
   ]
  },
  {
   "cell_type": "code",
   "execution_count": null,
   "id": "45cafc99-e305-4aa1-93fb-93d7bb019eda",
   "metadata": {},
   "outputs": [],
   "source": [
    "#8. An integer array original is transformed into a doubled array changed by appending twice the value of every element in original, and then randomly shuffling the resulting array.\n",
    "\n",
    "#Given an array changed, return original if changed is a doubled* array. If* changed is not a doubled* array, return an empty array. The elements in* original may be returned in any* order*.\n",
    "\n",
    "#Example 1:\n",
    "\n",
    "#Input: changed = [1,3,4,2,6,8]\n",
    "\n",
    "#Output: [1,3,4]"
   ]
  },
  {
   "cell_type": "code",
   "execution_count": 8,
   "id": "2eb30773-2fa5-46b7-9642-9e333a839898",
   "metadata": {},
   "outputs": [
    {
     "name": "stdout",
     "output_type": "stream",
     "text": [
      "[1, 3, 4]\n"
     ]
    }
   ],
   "source": [
    "from collections import Counter\n",
    "\n",
    "def find_original_array(changed):\n",
    "    count = Counter(changed)\n",
    "\n",
    "    original = []\n",
    "    for num in changed:\n",
    "        if count[num] == 0:\n",
    "            continue\n",
    "        if count[num * 2] == 0:\n",
    "            return []\n",
    "        count[num] -= 1\n",
    "        count[num * 2] -= 1\n",
    "        original.append(num)\n",
    "\n",
    "    return original\n",
    "\n",
    "\n",
    "# Test Function\n",
    "changed = [1, 3, 4, 2, 6, 8]\n",
    "result = find_original_array(changed)\n",
    "print(result)"
   ]
  },
  {
   "cell_type": "code",
   "execution_count": null,
   "id": "4fbabaf6-0c20-4820-b3fd-3854b485bf5f",
   "metadata": {},
   "outputs": [],
   "source": []
  }
 ],
 "metadata": {
  "kernelspec": {
   "display_name": "Python 3 (ipykernel)",
   "language": "python",
   "name": "python3"
  },
  "language_info": {
   "codemirror_mode": {
    "name": "ipython",
    "version": 3
   },
   "file_extension": ".py",
   "mimetype": "text/x-python",
   "name": "python",
   "nbconvert_exporter": "python",
   "pygments_lexer": "ipython3",
   "version": "3.10.6"
  }
 },
 "nbformat": 4,
 "nbformat_minor": 5
}
